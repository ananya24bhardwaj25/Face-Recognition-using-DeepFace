{
  "nbformat": 4,
  "nbformat_minor": 0,
  "metadata": {
    "colab": {
      "provenance": []
    },
    "kernelspec": {
      "name": "python3",
      "display_name": "Python 3"
    },
    "language_info": {
      "name": "python"
    }
  },
  "cells": [
    {
      "cell_type": "code",
      "execution_count": null,
      "metadata": {
        "colab": {
          "base_uri": "https://localhost:8080/"
        },
        "id": "FwLS39oqHB78",
        "outputId": "43b09f74-ca4d-445d-f4bd-09c631cc66ca"
      },
      "outputs": [
        {
          "output_type": "stream",
          "name": "stdout",
          "text": [
            "Requirement already satisfied: deepface in /usr/local/lib/python3.10/dist-packages (0.0.92)\n",
            "Requirement already satisfied: requests>=2.27.1 in /usr/local/lib/python3.10/dist-packages (from deepface) (2.31.0)\n",
            "Requirement already satisfied: numpy>=1.14.0 in /usr/local/lib/python3.10/dist-packages (from deepface) (1.25.2)\n",
            "Requirement already satisfied: pandas>=0.23.4 in /usr/local/lib/python3.10/dist-packages (from deepface) (2.0.3)\n",
            "Requirement already satisfied: gdown>=3.10.1 in /usr/local/lib/python3.10/dist-packages (from deepface) (5.1.0)\n",
            "Requirement already satisfied: tqdm>=4.30.0 in /usr/local/lib/python3.10/dist-packages (from deepface) (4.66.4)\n",
            "Requirement already satisfied: Pillow>=5.2.0 in /usr/local/lib/python3.10/dist-packages (from deepface) (9.4.0)\n",
            "Requirement already satisfied: opencv-python>=4.5.5.64 in /usr/local/lib/python3.10/dist-packages (from deepface) (4.8.0.76)\n",
            "Requirement already satisfied: tensorflow>=1.9.0 in /usr/local/lib/python3.10/dist-packages (from deepface) (2.15.0)\n",
            "Requirement already satisfied: keras>=2.2.0 in /usr/local/lib/python3.10/dist-packages (from deepface) (2.15.0)\n",
            "Requirement already satisfied: Flask>=1.1.2 in /usr/local/lib/python3.10/dist-packages (from deepface) (2.2.5)\n",
            "Requirement already satisfied: mtcnn>=0.1.0 in /usr/local/lib/python3.10/dist-packages (from deepface) (0.1.1)\n",
            "Requirement already satisfied: retina-face>=0.0.1 in /usr/local/lib/python3.10/dist-packages (from deepface) (0.0.17)\n",
            "Requirement already satisfied: fire>=0.4.0 in /usr/local/lib/python3.10/dist-packages (from deepface) (0.6.0)\n",
            "Requirement already satisfied: gunicorn>=20.1.0 in /usr/local/lib/python3.10/dist-packages (from deepface) (22.0.0)\n",
            "Requirement already satisfied: six in /usr/local/lib/python3.10/dist-packages (from fire>=0.4.0->deepface) (1.16.0)\n",
            "Requirement already satisfied: termcolor in /usr/local/lib/python3.10/dist-packages (from fire>=0.4.0->deepface) (2.4.0)\n",
            "Requirement already satisfied: Werkzeug>=2.2.2 in /usr/local/lib/python3.10/dist-packages (from Flask>=1.1.2->deepface) (3.0.3)\n",
            "Requirement already satisfied: Jinja2>=3.0 in /usr/local/lib/python3.10/dist-packages (from Flask>=1.1.2->deepface) (3.1.4)\n",
            "Requirement already satisfied: itsdangerous>=2.0 in /usr/local/lib/python3.10/dist-packages (from Flask>=1.1.2->deepface) (2.2.0)\n",
            "Requirement already satisfied: click>=8.0 in /usr/local/lib/python3.10/dist-packages (from Flask>=1.1.2->deepface) (8.1.7)\n",
            "Requirement already satisfied: beautifulsoup4 in /usr/local/lib/python3.10/dist-packages (from gdown>=3.10.1->deepface) (4.12.3)\n",
            "Requirement already satisfied: filelock in /usr/local/lib/python3.10/dist-packages (from gdown>=3.10.1->deepface) (3.14.0)\n",
            "Requirement already satisfied: packaging in /usr/local/lib/python3.10/dist-packages (from gunicorn>=20.1.0->deepface) (24.1)\n",
            "Requirement already satisfied: python-dateutil>=2.8.2 in /usr/local/lib/python3.10/dist-packages (from pandas>=0.23.4->deepface) (2.8.2)\n",
            "Requirement already satisfied: pytz>=2020.1 in /usr/local/lib/python3.10/dist-packages (from pandas>=0.23.4->deepface) (2023.4)\n",
            "Requirement already satisfied: tzdata>=2022.1 in /usr/local/lib/python3.10/dist-packages (from pandas>=0.23.4->deepface) (2024.1)\n",
            "Requirement already satisfied: charset-normalizer<4,>=2 in /usr/local/lib/python3.10/dist-packages (from requests>=2.27.1->deepface) (3.3.2)\n",
            "Requirement already satisfied: idna<4,>=2.5 in /usr/local/lib/python3.10/dist-packages (from requests>=2.27.1->deepface) (3.7)\n",
            "Requirement already satisfied: urllib3<3,>=1.21.1 in /usr/local/lib/python3.10/dist-packages (from requests>=2.27.1->deepface) (2.0.7)\n",
            "Requirement already satisfied: certifi>=2017.4.17 in /usr/local/lib/python3.10/dist-packages (from requests>=2.27.1->deepface) (2024.6.2)\n",
            "Requirement already satisfied: absl-py>=1.0.0 in /usr/local/lib/python3.10/dist-packages (from tensorflow>=1.9.0->deepface) (1.4.0)\n",
            "Requirement already satisfied: astunparse>=1.6.0 in /usr/local/lib/python3.10/dist-packages (from tensorflow>=1.9.0->deepface) (1.6.3)\n",
            "Requirement already satisfied: flatbuffers>=23.5.26 in /usr/local/lib/python3.10/dist-packages (from tensorflow>=1.9.0->deepface) (24.3.25)\n",
            "Requirement already satisfied: gast!=0.5.0,!=0.5.1,!=0.5.2,>=0.2.1 in /usr/local/lib/python3.10/dist-packages (from tensorflow>=1.9.0->deepface) (0.5.4)\n",
            "Requirement already satisfied: google-pasta>=0.1.1 in /usr/local/lib/python3.10/dist-packages (from tensorflow>=1.9.0->deepface) (0.2.0)\n",
            "Requirement already satisfied: h5py>=2.9.0 in /usr/local/lib/python3.10/dist-packages (from tensorflow>=1.9.0->deepface) (3.9.0)\n",
            "Requirement already satisfied: libclang>=13.0.0 in /usr/local/lib/python3.10/dist-packages (from tensorflow>=1.9.0->deepface) (18.1.1)\n",
            "Requirement already satisfied: ml-dtypes~=0.2.0 in /usr/local/lib/python3.10/dist-packages (from tensorflow>=1.9.0->deepface) (0.2.0)\n",
            "Requirement already satisfied: opt-einsum>=2.3.2 in /usr/local/lib/python3.10/dist-packages (from tensorflow>=1.9.0->deepface) (3.3.0)\n",
            "Requirement already satisfied: protobuf!=4.21.0,!=4.21.1,!=4.21.2,!=4.21.3,!=4.21.4,!=4.21.5,<5.0.0dev,>=3.20.3 in /usr/local/lib/python3.10/dist-packages (from tensorflow>=1.9.0->deepface) (3.20.3)\n",
            "Requirement already satisfied: setuptools in /usr/local/lib/python3.10/dist-packages (from tensorflow>=1.9.0->deepface) (67.7.2)\n",
            "Requirement already satisfied: typing-extensions>=3.6.6 in /usr/local/lib/python3.10/dist-packages (from tensorflow>=1.9.0->deepface) (4.12.2)\n",
            "Requirement already satisfied: wrapt<1.15,>=1.11.0 in /usr/local/lib/python3.10/dist-packages (from tensorflow>=1.9.0->deepface) (1.14.1)\n",
            "Requirement already satisfied: tensorflow-io-gcs-filesystem>=0.23.1 in /usr/local/lib/python3.10/dist-packages (from tensorflow>=1.9.0->deepface) (0.37.0)\n",
            "Requirement already satisfied: grpcio<2.0,>=1.24.3 in /usr/local/lib/python3.10/dist-packages (from tensorflow>=1.9.0->deepface) (1.64.1)\n",
            "Requirement already satisfied: tensorboard<2.16,>=2.15 in /usr/local/lib/python3.10/dist-packages (from tensorflow>=1.9.0->deepface) (2.15.2)\n",
            "Requirement already satisfied: tensorflow-estimator<2.16,>=2.15.0 in /usr/local/lib/python3.10/dist-packages (from tensorflow>=1.9.0->deepface) (2.15.0)\n",
            "Requirement already satisfied: wheel<1.0,>=0.23.0 in /usr/local/lib/python3.10/dist-packages (from astunparse>=1.6.0->tensorflow>=1.9.0->deepface) (0.43.0)\n",
            "Requirement already satisfied: MarkupSafe>=2.0 in /usr/local/lib/python3.10/dist-packages (from Jinja2>=3.0->Flask>=1.1.2->deepface) (2.1.5)\n",
            "Requirement already satisfied: google-auth<3,>=1.6.3 in /usr/local/lib/python3.10/dist-packages (from tensorboard<2.16,>=2.15->tensorflow>=1.9.0->deepface) (2.27.0)\n",
            "Requirement already satisfied: google-auth-oauthlib<2,>=0.5 in /usr/local/lib/python3.10/dist-packages (from tensorboard<2.16,>=2.15->tensorflow>=1.9.0->deepface) (1.2.0)\n",
            "Requirement already satisfied: markdown>=2.6.8 in /usr/local/lib/python3.10/dist-packages (from tensorboard<2.16,>=2.15->tensorflow>=1.9.0->deepface) (3.6)\n",
            "Requirement already satisfied: tensorboard-data-server<0.8.0,>=0.7.0 in /usr/local/lib/python3.10/dist-packages (from tensorboard<2.16,>=2.15->tensorflow>=1.9.0->deepface) (0.7.2)\n",
            "Requirement already satisfied: soupsieve>1.2 in /usr/local/lib/python3.10/dist-packages (from beautifulsoup4->gdown>=3.10.1->deepface) (2.5)\n",
            "Requirement already satisfied: PySocks!=1.5.7,>=1.5.6 in /usr/local/lib/python3.10/dist-packages (from requests>=2.27.1->deepface) (1.7.1)\n",
            "Requirement already satisfied: cachetools<6.0,>=2.0.0 in /usr/local/lib/python3.10/dist-packages (from google-auth<3,>=1.6.3->tensorboard<2.16,>=2.15->tensorflow>=1.9.0->deepface) (5.3.3)\n",
            "Requirement already satisfied: pyasn1-modules>=0.2.1 in /usr/local/lib/python3.10/dist-packages (from google-auth<3,>=1.6.3->tensorboard<2.16,>=2.15->tensorflow>=1.9.0->deepface) (0.4.0)\n",
            "Requirement already satisfied: rsa<5,>=3.1.4 in /usr/local/lib/python3.10/dist-packages (from google-auth<3,>=1.6.3->tensorboard<2.16,>=2.15->tensorflow>=1.9.0->deepface) (4.9)\n",
            "Requirement already satisfied: requests-oauthlib>=0.7.0 in /usr/local/lib/python3.10/dist-packages (from google-auth-oauthlib<2,>=0.5->tensorboard<2.16,>=2.15->tensorflow>=1.9.0->deepface) (1.3.1)\n",
            "Requirement already satisfied: pyasn1<0.7.0,>=0.4.6 in /usr/local/lib/python3.10/dist-packages (from pyasn1-modules>=0.2.1->google-auth<3,>=1.6.3->tensorboard<2.16,>=2.15->tensorflow>=1.9.0->deepface) (0.6.0)\n",
            "Requirement already satisfied: oauthlib>=3.0.0 in /usr/local/lib/python3.10/dist-packages (from requests-oauthlib>=0.7.0->google-auth-oauthlib<2,>=0.5->tensorboard<2.16,>=2.15->tensorflow>=1.9.0->deepface) (3.2.2)\n"
          ]
        }
      ],
      "source": [
        "!pip install deepface"
      ]
    },
    {
      "cell_type": "code",
      "source": [
        "from deepface import DeepFace\n",
        "import json"
      ],
      "metadata": {
        "id": "LXIUOk-pHHmE"
      },
      "execution_count": null,
      "outputs": []
    },
    {
      "cell_type": "code",
      "source": [
        "result= DeepFace.verify(img1_path=\"IMG-20240616-WA0026.jpg\" , img2_path=\"IMG-20240616-WA0027.jpg\")\n",
        "print(json.dumps(result, indent=2))\n"
      ],
      "metadata": {
        "colab": {
          "base_uri": "https://localhost:8080/"
        },
        "id": "p64mKpNuI1TG",
        "outputId": "143f59bd-594d-4703-cd46-e7fabe1f9202"
      },
      "execution_count": null,
      "outputs": [
        {
          "output_type": "stream",
          "name": "stdout",
          "text": [
            "{\n",
            "  \"verified\": true,\n",
            "  \"distance\": 0.6776646416983823,\n",
            "  \"threshold\": 0.68,\n",
            "  \"model\": \"VGG-Face\",\n",
            "  \"detector_backend\": \"opencv\",\n",
            "  \"similarity_metric\": \"cosine\",\n",
            "  \"facial_areas\": {\n",
            "    \"img1\": {\n",
            "      \"x\": 243,\n",
            "      \"y\": 455,\n",
            "      \"w\": 181,\n",
            "      \"h\": 181,\n",
            "      \"left_eye\": null,\n",
            "      \"right_eye\": null\n",
            "    },\n",
            "    \"img2\": {\n",
            "      \"x\": 284,\n",
            "      \"y\": 647,\n",
            "      \"w\": 247,\n",
            "      \"h\": 247,\n",
            "      \"left_eye\": null,\n",
            "      \"right_eye\": null\n",
            "    }\n",
            "  },\n",
            "  \"time\": 6.08\n",
            "}\n"
          ]
        }
      ]
    },
    {
      "cell_type": "code",
      "source": [
        "from google.colab import drive\n",
        "dfs= DeepFace.find(img_path='/content/IMG-20240616-WA0026.jpg', db_path=\"/content/drive/MyDrive/db\")\n",
        "\n",
        "print(dfs)"
      ],
      "metadata": {
        "colab": {
          "base_uri": "https://localhost:8080/"
        },
        "id": "FXmLmbhnK9DV",
        "outputId": "5c90ada7-04d8-4952-f3a1-02f407ecbd7e"
      },
      "execution_count": null,
      "outputs": [
        {
          "output_type": "stream",
          "name": "stdout",
          "text": [
            "24-06-17 20:47:16 - Found 0 newly added image(s), 0 removed image(s), 6 replaced image(s).\n"
          ]
        },
        {
          "output_type": "stream",
          "name": "stderr",
          "text": [
            "Finding representations: 100%|██████████| 6/6 [00:21<00:00,  3.54s/it]\n"
          ]
        },
        {
          "output_type": "stream",
          "name": "stdout",
          "text": [
            "24-06-17 20:47:38 - There are now 8 representations in ds_model_vggface_detector_opencv_aligned_normalization_base_expand_0.pkl\n",
            "24-06-17 20:47:38 - Searching /content/IMG-20240616-WA0026.jpg in 8 length datastore\n",
            "24-06-17 20:47:40 - find function duration 23.67174458503723 seconds\n",
            "[                                            identity  \\\n",
            "0  /content/drive/MyDrive/db/IMG-20240616-WA0026.jpg   \n",
            "1  /content/drive/MyDrive/db/IMG-20240616-WA0025.jpg   \n",
            "2  /content/drive/MyDrive/db/IMG-20240616-WA0023.jpg   \n",
            "3  /content/drive/MyDrive/db/IMG-20240616-WA0027.jpg   \n",
            "\n",
            "                                       hash  target_x  target_y  target_w  \\\n",
            "0  cf02890d3dce2b70e32ee07a6ec118160858cfbb       243       455       181   \n",
            "1  f60b9913799bbc98cf50238ce6e41769b0654ab7       295       231       197   \n",
            "2  889b2d605628c3e43fb8b228b423002508a28848       373       619        62   \n",
            "3  0b0be06a6792f13122d7449c198cc44ce67ba01b       284       647       247   \n",
            "\n",
            "   target_h  source_x  source_y  source_w  source_h  threshold  distance  \n",
            "0       181       243       455       181       181       0.68  0.000000  \n",
            "1       197       243       455       181       181       0.68  0.526198  \n",
            "2        62       243       455       181       181       0.68  0.571783  \n",
            "3       247       243       455       181       181       0.68  0.677665  ]\n"
          ]
        }
      ]
    },
    {
      "cell_type": "code",
      "source": [
        "onjs = DeepFace.analyze(img_path=\"IMG-20240616-WA0026.jpg\")\n",
        "print(json.dumps(onjs, indent=2))"
      ],
      "metadata": {
        "colab": {
          "base_uri": "https://localhost:8080/"
        },
        "id": "5ZCFi6pkPrz1",
        "outputId": "28aa3fab-fc52-434e-86e8-ee5538217ce0"
      },
      "execution_count": null,
      "outputs": [
        {
          "output_type": "stream",
          "name": "stderr",
          "text": [
            "Action: emotion:   0%|          | 0/4 [00:00<?, ?it/s]"
          ]
        },
        {
          "output_type": "stream",
          "name": "stdout",
          "text": [
            "24-06-17 20:47:42 - facial_expression_model_weights.h5 will be downloaded...\n"
          ]
        },
        {
          "output_type": "stream",
          "name": "stderr",
          "text": [
            "Downloading...\n",
            "From: https://github.com/serengil/deepface_models/releases/download/v1.0/facial_expression_model_weights.h5\n",
            "To: /root/.deepface/weights/facial_expression_model_weights.h5\n",
            "\n",
            "  0%|          | 0.00/5.98M [00:00<?, ?B/s]\u001b[A\n",
            " 18%|█▊        | 1.05M/5.98M [00:00<00:00, 8.52MB/s]\u001b[A\n",
            "100%|██████████| 5.98M/5.98M [00:00<00:00, 17.8MB/s]\n",
            "Action: age:  25%|██▌       | 1/4 [00:13<00:39, 13.07s/it]    "
          ]
        },
        {
          "output_type": "stream",
          "name": "stdout",
          "text": [
            "24-06-17 20:47:58 - age_model_weights.h5 will be downloaded...\n"
          ]
        },
        {
          "output_type": "stream",
          "name": "stderr",
          "text": [
            "Downloading...\n",
            "From: https://github.com/serengil/deepface_models/releases/download/v1.0/age_model_weights.h5\n",
            "To: /root/.deepface/weights/age_model_weights.h5\n",
            "\n",
            "  0%|          | 0.00/539M [00:00<?, ?B/s]\u001b[A\n",
            "  0%|          | 1.05M/539M [00:00<01:01, 8.73MB/s]\u001b[A\n",
            "  1%|          | 3.15M/539M [00:00<00:37, 14.4MB/s]\u001b[A\n",
            "  1%|▏         | 6.82M/539M [00:00<00:22, 23.5MB/s]\u001b[A\n",
            "  3%|▎         | 13.6M/539M [00:00<00:13, 39.6MB/s]\u001b[A\n",
            "  5%|▍         | 26.7M/539M [00:00<00:07, 70.9MB/s]\u001b[A\n",
            "  9%|▉         | 50.3M/539M [00:00<00:03, 125MB/s] \u001b[A\n",
            " 16%|█▌        | 84.9M/539M [00:00<00:02, 195MB/s]\u001b[A\n",
            " 21%|██        | 113M/539M [00:00<00:01, 222MB/s] \u001b[A\n",
            " 25%|██▌       | 136M/539M [00:00<00:01, 222MB/s]\u001b[A\n",
            " 29%|██▉       | 158M/539M [00:01<00:01, 207MB/s]\u001b[A\n",
            " 34%|███▎      | 181M/539M [00:01<00:01, 214MB/s]\u001b[A\n",
            " 39%|███▊      | 209M/539M [00:01<00:01, 230MB/s]\u001b[A\n",
            " 43%|████▎     | 232M/539M [00:01<00:01, 213MB/s]\u001b[A\n",
            " 47%|████▋     | 255M/539M [00:01<00:01, 216MB/s]\u001b[A\n",
            " 51%|█████▏    | 277M/539M [00:01<00:01, 210MB/s]\u001b[A\n",
            " 56%|█████▌    | 301M/539M [00:01<00:01, 220MB/s]\u001b[A\n",
            " 60%|██████    | 325M/539M [00:01<00:00, 223MB/s]\u001b[A\n",
            " 65%|██████▌   | 352M/539M [00:01<00:00, 237MB/s]\u001b[A\n",
            " 70%|██████▉   | 376M/539M [00:02<00:00, 235MB/s]\u001b[A\n",
            " 74%|███████▍  | 400M/539M [00:02<00:00, 223MB/s]\u001b[A\n",
            " 78%|███████▊  | 423M/539M [00:02<00:00, 197MB/s]\u001b[A\n",
            " 82%|████████▏ | 443M/539M [00:02<00:00, 186MB/s]\u001b[A\n",
            " 86%|████████▌ | 462M/539M [00:02<00:00, 170MB/s]\u001b[A\n",
            " 89%|████████▉ | 480M/539M [00:02<00:00, 159MB/s]\u001b[A\n",
            " 92%|█████████▏| 497M/539M [00:02<00:00, 146MB/s]\u001b[A\n",
            " 95%|█████████▍| 512M/539M [00:02<00:00, 134MB/s]\u001b[A\n",
            "100%|██████████| 539M/539M [00:03<00:00, 167MB/s]\n",
            "Action: gender:  50%|█████     | 2/4 [00:25<00:25, 12.85s/it]"
          ]
        },
        {
          "output_type": "stream",
          "name": "stdout",
          "text": [
            "24-06-17 20:48:10 - gender_model_weights.h5 will be downloaded...\n"
          ]
        },
        {
          "output_type": "stream",
          "name": "stderr",
          "text": [
            "Downloading...\n",
            "From: https://github.com/serengil/deepface_models/releases/download/v1.0/gender_model_weights.h5\n",
            "To: /root/.deepface/weights/gender_model_weights.h5\n",
            "\n",
            "  0%|          | 0.00/537M [00:00<?, ?B/s]\u001b[A\n",
            "  3%|▎         | 15.7M/537M [00:00<00:03, 153MB/s]\u001b[A\n",
            "  8%|▊         | 45.6M/537M [00:00<00:02, 237MB/s]\u001b[A\n",
            " 14%|█▍        | 76.5M/537M [00:00<00:01, 267MB/s]\u001b[A\n",
            " 20%|█▉        | 105M/537M [00:00<00:01, 275MB/s] \u001b[A\n",
            " 25%|██▍       | 133M/537M [00:00<00:01, 262MB/s]\u001b[A\n",
            " 30%|██▉       | 160M/537M [00:00<00:01, 252MB/s]\u001b[A\n",
            " 35%|███▍      | 186M/537M [00:00<00:01, 241MB/s]\u001b[A\n",
            " 40%|███▉      | 213M/537M [00:00<00:01, 250MB/s]\u001b[A\n",
            " 44%|████▍     | 238M/537M [00:00<00:01, 249MB/s]\u001b[A\n",
            " 49%|████▉     | 264M/537M [00:01<00:01, 253MB/s]\u001b[A\n",
            " 54%|█████▍    | 290M/537M [00:01<00:00, 250MB/s]\u001b[A\n",
            " 59%|█████▉    | 318M/537M [00:01<00:00, 258MB/s]\u001b[A\n",
            " 64%|██████▍   | 344M/537M [00:01<00:00, 258MB/s]\u001b[A\n",
            " 69%|██████▉   | 371M/537M [00:01<00:00, 232MB/s]\u001b[A\n",
            " 73%|███████▎  | 395M/537M [00:01<00:00, 228MB/s]\u001b[A\n",
            " 78%|███████▊  | 418M/537M [00:01<00:00, 215MB/s]\u001b[A\n",
            " 82%|████████▏ | 440M/537M [00:01<00:00, 206MB/s]\u001b[A\n",
            " 86%|████████▋ | 463M/537M [00:01<00:00, 212MB/s]\u001b[A\n",
            " 91%|█████████ | 488M/537M [00:02<00:00, 222MB/s]\u001b[A\n",
            " 95%|█████████▌| 512M/537M [00:02<00:00, 225MB/s]\u001b[A\n",
            "100%|██████████| 537M/537M [00:02<00:00, 228MB/s]\n",
            "Action: race:  75%|███████▌  | 3/4 [00:34<00:11, 11.10s/it]  "
          ]
        },
        {
          "output_type": "stream",
          "name": "stdout",
          "text": [
            "24-06-17 20:48:20 - race_model_single_batch.h5 will be downloaded...\n"
          ]
        },
        {
          "output_type": "stream",
          "name": "stderr",
          "text": [
            "Downloading...\n",
            "From: https://github.com/serengil/deepface_models/releases/download/v1.0/race_model_single_batch.h5\n",
            "To: /root/.deepface/weights/race_model_single_batch.h5\n",
            "\n",
            "  0%|          | 0.00/537M [00:00<?, ?B/s]\u001b[A\n",
            "  3%|▎         | 14.2M/537M [00:00<00:03, 141MB/s]\u001b[A\n",
            "  7%|▋         | 36.2M/537M [00:00<00:02, 187MB/s]\u001b[A\n",
            " 11%|█         | 59.8M/537M [00:00<00:02, 209MB/s]\u001b[A\n",
            " 17%|█▋        | 89.1M/537M [00:00<00:01, 241MB/s]\u001b[A\n",
            " 21%|██        | 114M/537M [00:00<00:01, 219MB/s] \u001b[A\n",
            " 25%|██▌       | 136M/537M [00:00<00:01, 202MB/s]\u001b[A\n",
            " 29%|██▉       | 157M/537M [00:00<00:01, 196MB/s]\u001b[A\n",
            " 33%|███▎      | 177M/537M [00:00<00:01, 182MB/s]\u001b[A\n",
            " 37%|███▋      | 197M/537M [00:01<00:01, 186MB/s]\u001b[A\n",
            " 40%|████      | 216M/537M [00:01<00:01, 186MB/s]\u001b[A\n",
            " 44%|████▎     | 235M/537M [00:01<00:01, 183MB/s]\u001b[A\n",
            " 47%|████▋     | 254M/537M [00:01<00:01, 179MB/s]\u001b[A\n",
            " 51%|█████     | 272M/537M [00:01<00:01, 179MB/s]\u001b[A\n",
            " 54%|█████▍    | 290M/537M [00:01<00:01, 174MB/s]\u001b[A\n",
            " 57%|█████▋    | 308M/537M [00:01<00:01, 170MB/s]\u001b[A\n",
            " 61%|██████    | 326M/537M [00:01<00:01, 169MB/s]\u001b[A\n",
            " 64%|██████▍   | 343M/537M [00:01<00:01, 155MB/s]\u001b[A\n",
            " 67%|██████▋   | 359M/537M [00:02<00:01, 149MB/s]\u001b[A\n",
            " 70%|██████▉   | 374M/537M [00:02<00:01, 144MB/s]\u001b[A\n",
            " 73%|███████▎  | 390M/537M [00:02<00:01, 145MB/s]\u001b[A\n",
            " 75%|███████▌  | 404M/537M [00:02<00:00, 142MB/s]\u001b[A\n",
            " 78%|███████▊  | 419M/537M [00:02<00:00, 143MB/s]\u001b[A\n",
            " 81%|████████  | 434M/537M [00:02<00:00, 137MB/s]\u001b[A\n",
            " 84%|████████▍ | 450M/537M [00:02<00:00, 145MB/s]\u001b[A\n",
            " 87%|████████▋ | 465M/537M [00:02<00:00, 133MB/s]\u001b[A\n",
            " 89%|████████▉ | 479M/537M [00:02<00:00, 126MB/s]\u001b[A\n",
            " 93%|█████████▎| 498M/537M [00:03<00:00, 142MB/s]\u001b[A\n",
            " 95%|█████████▌| 512M/537M [00:03<00:00, 143MB/s]\u001b[A\n",
            "100%|██████████| 537M/537M [00:03<00:00, 165MB/s]\n",
            "Action: race: 100%|██████████| 4/4 [00:46<00:00, 11.59s/it]"
          ]
        },
        {
          "output_type": "stream",
          "name": "stdout",
          "text": [
            "[\n",
            "  {\n",
            "    \"emotion\": {\n",
            "      \"angry\": 99.27513608036803,\n",
            "      \"disgust\": 0.0021297796782578354,\n",
            "      \"fear\": 0.5089439310647331,\n",
            "      \"happy\": 1.0980456123224627e-06,\n",
            "      \"sad\": 0.06097590522382793,\n",
            "      \"surprise\": 0.014737964073233864,\n",
            "      \"neutral\": 0.1380685785107519\n",
            "    },\n",
            "    \"dominant_emotion\": \"angry\",\n",
            "    \"region\": {\n",
            "      \"x\": 243,\n",
            "      \"y\": 455,\n",
            "      \"w\": 181,\n",
            "      \"h\": 181,\n",
            "      \"left_eye\": null,\n",
            "      \"right_eye\": null\n",
            "    },\n",
            "    \"face_confidence\": 0.96,\n",
            "    \"age\": 46,\n",
            "    \"gender\": {\n",
            "      \"Woman\": 60.550034046173096,\n",
            "      \"Man\": 39.44995999336243\n",
            "    },\n",
            "    \"dominant_gender\": \"Woman\",\n",
            "    \"race\": {\n",
            "      \"asian\": 6.448786705732346,\n",
            "      \"indian\": 6.435655057430267,\n",
            "      \"black\": 2.074534632265568,\n",
            "      \"white\": 32.07022249698639,\n",
            "      \"middle eastern\": 23.27711582183838,\n",
            "      \"latino hispanic\": 29.693683981895447\n",
            "    },\n",
            "    \"dominant_race\": \"white\"\n",
            "  }\n",
            "]\n"
          ]
        },
        {
          "output_type": "stream",
          "name": "stderr",
          "text": [
            "\n"
          ]
        }
      ]
    }
  ]
}